{
 "cells": [
  {
   "cell_type": "code",
   "execution_count": 23,
   "metadata": {},
   "outputs": [
    {
     "name": "stdout",
     "output_type": "stream",
     "text": [
      "[(['BB', 'CC', 'DD'], 51), (['AA', 'BB', 'CC'], 30), (['CC', 'DD', 'EE'], 21), (['F', 'G', 'H'], 1), (['G', 'H', 'I'], 1), (['A', 'B', 'C'], 0), (['B', 'C', 'D'], 0), (['C', 'D', 'E'], 0), (['D', 'E', 'F'], 0), (['E', 'F', 'G'], 0), (['H', 'I', 'J'], 0), (['I', 'J', 'K'], 0), (['J', 'K', 'L'], 0), (['K', 'L', 'M'], 0), (['L', 'M', 'N'], 0), (['M', 'N', 'O'], 0), (['N', 'O', 'P'], 0), (['O', 'P', 'Q'], 0), (['P', 'Q', 'R'], 0), (['Q', 'R', 'S'], 0), (['R', 'S', 'T'], 0), (['S', 'T', 'U'], 0), (['T', 'U', 'V'], 0), (['U', 'V', 'W'], 0), (['V', 'W', 'X'], 0), (['W', 'X', 'Y'], 0), (['X', 'Y', 'Z'], 0), (['Y', 'Z', 'AA'], 0), (['Z', 'AA', 'BB'], 0), (['DD', 'EE', 'FF'], 0), (['EE', 'FF', 'GG'], 0), (['FF', 'GG', 'HH'], 0), (['GG', 'HH', 'II'], 0), (['HH', 'II', 'JJ'], 0), (['II', 'JJ', 'KK'], 0), (['JJ', 'KK', 'LL'], 0), (['KK', 'LL', 'MM'], 0), (['LL', 'MM', 'NN'], 0), (['MM', 'NN', 'OO'], 0), (['NN', 'OO', 'PP'], 0), (['OO', 'PP', 'QQ'], 0), (['PP', 'QQ', 'RR'], 0), (['QQ', 'RR', 'SS'], 0), (['RR', 'SS', 'TT'], 0), (['SS', 'TT', 'UU'], 0), (['TT', 'UU', 'VV'], 0), (['UU', 'VV', 'WW'], 0), (['VV', 'WW', 'XX'], 0), (['WW', 'XX', 'YY'], 0), (['XX', 'YY', 'ZZ'], 0), (['YY', 'ZZ', 'A'], 0), (['ZZ', 'A', 'B'], 0)]\n"
     ]
    }
   ],
   "source": [
    "import numpy as np\n",
    "\n",
    "# represent 52 cards as A,B,C ... AA, BB, CC.. ZZ\n",
    "cards = np.array(['A', 'B', 'C', 'D', 'E', 'F', 'G', 'H', 'I', 'J', 'K', 'L', 'M', 'N', 'O', 'P', 'Q', 'R', 'S', 'T', 'U', 'V', 'W', 'X', 'Y', 'Z',\n",
    "                           'AA', 'BB', 'CC', 'DD', 'EE', 'FF', 'GG', 'HH', 'II', 'JJ', 'KK', 'LL', 'MM', 'NN', 'OO', 'PP', 'QQ', 'RR', 'SS', 'TT', 'UU', 'VV', 'WW', 'XX', 'YY', 'ZZ'])\n",
    "\n",
    "out_of_order_cards = np.array(['A', 'B', 'C', 'D', 'E', 'F', 'G', 'CC', 'H', 'I', 'J', 'K', 'L', 'M', 'N', 'O', 'P', 'Q', 'R', 'S', 'T', 'U', 'V', 'W', 'X', 'Y', 'Z',\n",
    "                           'AA', 'BB', 'DD', 'EE', 'FF', 'GG', 'HH', 'II', 'JJ', 'KK', 'LL', 'MM', 'NN', 'OO', 'PP', 'QQ', 'RR', 'SS', 'TT', 'UU', 'VV', 'WW', 'XX', 'YY', 'ZZ'])\n",
    "\n",
    "\n",
    "def triplet_distance(triplet, deck):\n",
    "    counting = False\n",
    "    looking_for_index = 0\n",
    "    distance = 0\n",
    "    for i in range(0, 4): # 3 loops should be the max!\n",
    "        for c in deck:\n",
    "            if (counting):\n",
    "                if (c == triplet[looking_for_index]):\n",
    "                    looking_for_index = looking_for_index+1\n",
    "                    \n",
    "                    if (looking_for_index >= 3):\n",
    "                        return distance\n",
    "                    \n",
    "                else:\n",
    "                    distance = distance + 1\n",
    "            else:\n",
    "                if (c == triplet[looking_for_index]):\n",
    "                    counting = True\n",
    "                    looking_for_index = looking_for_index + 1\n",
    "    \n",
    "    # we shouldn't ever hit this...         \n",
    "    raise Exception(f\"Triplet {triplet} was not found after 3 loops\")\n",
    "\n",
    "all_triplets = []\n",
    "for i in range(0, len(cards)):\n",
    "    first_index = i\n",
    "    second_index = (i + 1) % len(cards)\n",
    "    third_index = (i + 2) % len(cards)\n",
    "    \n",
    "    triplet = [ cards[first_index], cards[second_index], cards[third_index]]\n",
    "    all_triplets.append(triplet)\n",
    "\n",
    "triplets_with_scores = list(map(lambda t: (t, triplet_distance(t, out_of_order_cards)), all_triplets))\n",
    "sorted_triplets_with_scores = sorted(triplets_with_scores, key=lambda tws: -tws[1])\n",
    "\n",
    "print(sorted_triplets_with_scores)\n",
    "\n",
    "# for triplet in all_triplets:\n",
    "#     print(f\"{triplet}\\t=\\t{triplet_distance(triplet, out_of_order_cards)}\")"
   ]
  }
 ],
 "metadata": {
  "kernelspec": {
   "display_name": "Python 3",
   "language": "python",
   "name": "python3"
  },
  "language_info": {
   "codemirror_mode": {
    "name": "ipython",
    "version": 3
   },
   "file_extension": ".py",
   "mimetype": "text/x-python",
   "name": "python",
   "nbconvert_exporter": "python",
   "pygments_lexer": "ipython3",
   "version": "3.10.11"
  }
 },
 "nbformat": 4,
 "nbformat_minor": 2
}
